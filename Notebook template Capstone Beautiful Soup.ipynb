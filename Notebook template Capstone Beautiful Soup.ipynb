{
 "cells": [
  {
   "cell_type": "markdown",
   "metadata": {},
   "source": [
    "# Capstone Webscrapping using BeautifulSoup\n",
    "\n",
    "Berikut adalah proses scrapping Data kurs Japan Yen ke rupiah pada tahun 2020 dari situs news.mifx.com dalam 5 hari. Attribute data yang akan discrapping dari web tersebut adalah:\n",
    "1. Tanggal yaitu periode kurs\n",
    "2. Ask yaitu kurs jual, \n",
    "3. Bid yaitu Kurs beli"
   ]
  },
  {
   "cell_type": "code",
   "execution_count": 1,
   "metadata": {
    "ExecuteTime": {
     "end_time": "2020-01-13T05:12:23.275508Z",
     "start_time": "2020-01-13T05:12:20.009898Z"
    }
   },
   "outputs": [],
   "source": [
    "import requests\n",
    "\n",
    "url_get = requests.get('https://news.mifx.com/kurs-valuta-asing?kurs=JPY')"
   ]
  },
  {
   "cell_type": "markdown",
   "metadata": {},
   "source": [
    "To visualize what exactly you get from the `request.get`, we can use .content so ee what we exactly get, in here i slice it so it won't make our screen full of the html we get from the page. You can delete the slicing if you want to see what we fully get."
   ]
  },
  {
   "cell_type": "code",
   "execution_count": 2,
   "metadata": {
    "ExecuteTime": {
     "end_time": "2020-01-13T05:12:23.290648Z",
     "start_time": "2020-01-13T05:12:23.277650Z"
    }
   },
   "outputs": [
    {
     "data": {
      "text/plain": [
       "b'!DOCTYPE html PUBLIC \"-//W3C//DTD XHTML 1.0 Transitional//EN\" \"http://www.w3.org/TR/xhtml1/DTD/xhtml1-transitional.dtd\">\\n<html xmlns=\"http://www.w3.org/1999/xhtml\">\\n<head>\\n<meta http-equiv=\"Content-Language\" content=\"en,in\" />\\n<link rel=\"alternate\" href=\"https://news.mifx.com/kurs-valuta-asing.php\" hreflang=\"en-ID\" />\\n<base href=\"https://news.mifx.com/\" target=\"_self\" />\\n<title>Kurs Dollar | USD | Nilai Tukar Dollar Hari Ini</title>\\n<meta property=\"og:title\" content=\"Kurs Dollar | USD | Nilai Tukar Dollar Hari Ini\" />\\n<meta name=\"description\" content=\"Nilai tukar rupiah terhadap dollar hari ini berdasarkan kurs tengah Bank Indonesia. \" />\\n<meta property=\"og:description\" content=\"Nilai tukar rupiah terhadap dollar hari ini berdasarkan kurs tengah Bank Indonesia. \" />'"
      ]
     },
     "execution_count": 2,
     "metadata": {},
     "output_type": "execute_result"
    }
   ],
   "source": [
    "url_get.content[1:777]"
   ]
  },
  {
   "cell_type": "markdown",
   "metadata": {},
   "source": [
    "As we can see we get a very unstructured and complex html, which actually contains the codes needed to show the webpages on your web browser. But we as human still confused what and where we can use that piece of code, so here where we use the beautifulsoup. Beautiful soup class will result a beautifulsoup object. Beautiful Soup transforms a complex HTML document into a complex tree of Python objects. But you’ll only ever have to deal with about four kinds of objects: `Tag`, `NavigableString`, `BeautifulSoup`, and `Comment`. But at this module we will only use `BeautifulSoup`."
   ]
  },
  {
   "cell_type": "code",
   "execution_count": 3,
   "metadata": {
    "ExecuteTime": {
     "end_time": "2020-01-13T05:12:23.808122Z",
     "start_time": "2020-01-13T05:12:23.292610Z"
    }
   },
   "outputs": [
    {
     "name": "stdout",
     "output_type": "stream",
     "text": [
      "<class 'bs4.BeautifulSoup'>\n"
     ]
    }
   ],
   "source": [
    "from bs4 import BeautifulSoup \n",
    "\n",
    "soup = BeautifulSoup(url_get.content,\"html.parser\")\n",
    "print(type(soup))"
   ]
  },
  {
   "cell_type": "markdown",
   "metadata": {},
   "source": [
    "Let's see how our beautifulsoup looks like. As you can see, the content is the same with our `get_url` object but it's tidier. Also beautifulsoup give us method to make it even more prettier, for tidyness purpouse we slice to only see first 1045 character. "
   ]
  },
  {
   "cell_type": "code",
   "execution_count": 4,
   "metadata": {
    "ExecuteTime": {
     "end_time": "2020-01-13T05:12:23.851033Z",
     "start_time": "2020-01-13T05:12:23.810086Z"
    }
   },
   "outputs": [
    {
     "name": "stdout",
     "output_type": "stream",
     "text": [
      "<!DOCTYPE html PUBLIC \"-//W3C//DTD XHTML 1.0 Transitional//EN\" \"http://www.w3.org/TR/xhtml1/DTD/xhtml1-transitional.dtd\">\n",
      "<html xmlns=\"http://www.w3.org/1999/xhtml\">\n",
      " <head>\n",
      "  <meta content=\"en,in\" http-equiv=\"Content-Language\"/>\n",
      "  <link href=\"https://news.mifx.com/kurs-valuta-asing.php\" hreflang=\"en-ID\" rel=\"alternate\"/>\n",
      "  <base href=\"https://news.mifx.com/\" target=\"_self\"/>\n",
      "  <title>\n",
      "   Kurs Dollar | USD | Nilai Tukar Dollar Hari Ini\n",
      "  </title>\n",
      "  <meta content=\"Kurs Dollar | USD | Nilai Tukar Dollar Hari Ini\" property=\"og:title\"/>\n",
      "  <meta content=\"Nilai tukar rupiah terhadap dollar hari ini berdasarkan kurs tengah Bank Indonesia. \" name=\"description\"/>\n",
      "  <meta content=\"Nilai tukar rupiah terhadap dollar hari ini berdasarkan kurs tengah Bank Indonesia. \" property=\"og:description\"/>\n",
      "  <meta content=\"Broker Terbaik, Trading Forex, Trading Teregulasi, Trading Online, Monex, mifx,\" name=\"keywords\"/>\n",
      "  <meta content=\"favicon.jpg?v=1570462055\" property=\"og:image\"/>\n",
      "  <meta content=\"Ultimaengine.com\" name=\"author\"/>\n",
      "  <meta content=\"fo\n"
     ]
    }
   ],
   "source": [
    "print(soup.prettify()[:1045])"
   ]
  },
  {
   "cell_type": "markdown",
   "metadata": {},
   "source": [
    "proses ini melakukan pencarian tag 'table' dengan nama class : centerText newsTable2 dan disimpan pada variable 'table'. Kemudian dilakukan prettify dari index baris ke 0-499 untuk merapikan file html dengan memberikan identasi dan newline agar dapat dibaca dengan mudah."
   ]
  },
  {
   "cell_type": "code",
   "execution_count": 5,
   "metadata": {
    "ExecuteTime": {
     "end_time": "2020-01-13T05:12:23.878904Z",
     "start_time": "2020-01-13T05:12:23.854974Z"
    }
   },
   "outputs": [
    {
     "name": "stdout",
     "output_type": "stream",
     "text": [
      "table cellpadding=\"10\" cellspacing=\"0\" class=\"centerText newsTable2\" width=\"100%\">\n",
      " <tr class=\"colorWhite fontsize14 firstRow\">\n",
      "  <td>\n",
      "   TANGGAL\n",
      "  </td>\n",
      "  <td>\n",
      "   ASK\n",
      "  </td>\n",
      "  <td>\n",
      "   BID\n",
      "  </td>\n",
      " </tr>\n",
      " <tr class=\"verySoftGreyBg\">\n",
      "  <td>\n",
      "   07 Agustus 2020\n",
      "  </td>\n",
      "  <td>\n",
      "   139,42\n",
      "  </td>\n",
      "  <td>\n",
      "   138,02\n",
      "  </td>\n",
      " </tr>\n",
      " <tr>\n",
      "  <td>\n",
      "   06 Agustus 2020\n",
      "  </td>\n",
      "  <td>\n",
      "   138,88\n",
      "  </td>\n",
      "  <td>\n",
      "   137,48\n",
      "  </td>\n",
      " </tr>\n",
      " <tr class=\"verySoftGreyBg\">\n",
      "  <td>\n",
      "   05 Agustus 2020\n",
      "  </td>\n",
      "  <td>\n",
      "   139,\n"
     ]
    }
   ],
   "source": [
    "table = soup.find('table', attrs={'class':'centerText newsTable2'})\n",
    "print(table.prettify()[1:500])"
   ]
  },
  {
   "cell_type": "markdown",
   "metadata": {},
   "source": [
    "Dari variable 'table' tersebut selanjutnya dilakukan proses pengambilan baris/row menggunakan find_all('tr') yaitu mencari semua tag 'tr' dan disimpan pada variable 'tr'. Kemudian dilakukan looping dari setiap baris untuk mendapatkan kolom nilai dari tag 'td'"
   ]
  },
  {
   "cell_type": "code",
   "execution_count": 6,
   "metadata": {},
   "outputs": [],
   "source": [
    "tr = table.find_all('tr')"
   ]
  },
  {
   "cell_type": "code",
   "execution_count": 7,
   "metadata": {
    "ExecuteTime": {
     "end_time": "2020-01-13T05:12:24.008256Z",
     "start_time": "2020-01-13T05:12:23.980358Z"
    }
   },
   "outputs": [
    {
     "data": {
      "text/plain": [
       "[('07-08-2020', '139.42', '138.02'),\n",
       " ('06-08-2020', '138.88', '137.48'),\n",
       " ('05-08-2020', '139.23', '137.84'),\n",
       " ('04-08-2020', '139.19', '137.79'),\n",
       " ('03-08-2020', '139.72', '138.32')]"
      ]
     },
     "execution_count": 7,
     "metadata": {},
     "output_type": "execute_result"
    }
   ],
   "source": [
    "temp = [] #initiating a tuple\n",
    "\n",
    "for i in range(1, len(tr)):\n",
    "    row = table.find_all('tr')[i]\n",
    "    \n",
    "    #get tanggal\n",
    "    tanggal = row.find_all('td')[0].text\n",
    "    tanggal = tanggal.strip().replace('\\xa0','/').replace('/','-').replace('Juli','07').replace('Agustus','08') #for removing the excess whitespace\n",
    "    \n",
    "    #get ask\n",
    "    ask = row.find_all('td')[1].text\n",
    "    ask = ask.strip().replace(',','.') #for removing the excess whitespace\n",
    "    \n",
    "    #get bid\n",
    "    bid = row.find_all('td')[2].text\n",
    "    bid = bid.strip().replace(',','.') #for removing the excess whitespace\n",
    "    \n",
    "    temp.append((tanggal,ask,bid)) \n",
    "    #scrapping process\n",
    "    \n",
    "temp "
   ]
  },
  {
   "cell_type": "code",
   "execution_count": 8,
   "metadata": {},
   "outputs": [
    {
     "data": {
      "text/plain": [
       "[('03-08-2020', '139.72', '138.32'),\n",
       " ('04-08-2020', '139.19', '137.79'),\n",
       " ('05-08-2020', '139.23', '137.84'),\n",
       " ('06-08-2020', '138.88', '137.48'),\n",
       " ('07-08-2020', '139.42', '138.02')]"
      ]
     },
     "execution_count": 8,
     "metadata": {},
     "output_type": "execute_result"
    }
   ],
   "source": [
    "temp = temp[::-1]\n",
    "temp"
   ]
  },
  {
   "cell_type": "markdown",
   "metadata": {},
   "source": [
    "Dari variable temp kemudian diubah menjadi dataframe"
   ]
  },
  {
   "cell_type": "code",
   "execution_count": 9,
   "metadata": {
    "ExecuteTime": {
     "end_time": "2020-01-13T05:12:41.517372Z",
     "start_time": "2020-01-13T05:12:29.130015Z"
    }
   },
   "outputs": [
    {
     "data": {
      "text/html": [
       "<div>\n",
       "<style scoped>\n",
       "    .dataframe tbody tr th:only-of-type {\n",
       "        vertical-align: middle;\n",
       "    }\n",
       "\n",
       "    .dataframe tbody tr th {\n",
       "        vertical-align: top;\n",
       "    }\n",
       "\n",
       "    .dataframe thead th {\n",
       "        text-align: right;\n",
       "    }\n",
       "</style>\n",
       "<table border=\"1\" class=\"dataframe\">\n",
       "  <thead>\n",
       "    <tr style=\"text-align: right;\">\n",
       "      <th></th>\n",
       "      <th>tanggal</th>\n",
       "      <th>ask</th>\n",
       "      <th>bid</th>\n",
       "    </tr>\n",
       "  </thead>\n",
       "  <tbody>\n",
       "    <tr>\n",
       "      <th>0</th>\n",
       "      <td>03-08-2020</td>\n",
       "      <td>139.72</td>\n",
       "      <td>138.32</td>\n",
       "    </tr>\n",
       "    <tr>\n",
       "      <th>1</th>\n",
       "      <td>04-08-2020</td>\n",
       "      <td>139.19</td>\n",
       "      <td>137.79</td>\n",
       "    </tr>\n",
       "    <tr>\n",
       "      <th>2</th>\n",
       "      <td>05-08-2020</td>\n",
       "      <td>139.23</td>\n",
       "      <td>137.84</td>\n",
       "    </tr>\n",
       "    <tr>\n",
       "      <th>3</th>\n",
       "      <td>06-08-2020</td>\n",
       "      <td>138.88</td>\n",
       "      <td>137.48</td>\n",
       "    </tr>\n",
       "    <tr>\n",
       "      <th>4</th>\n",
       "      <td>07-08-2020</td>\n",
       "      <td>139.42</td>\n",
       "      <td>138.02</td>\n",
       "    </tr>\n",
       "  </tbody>\n",
       "</table>\n",
       "</div>"
      ],
      "text/plain": [
       "      tanggal     ask     bid\n",
       "0  03-08-2020  139.72  138.32\n",
       "1  04-08-2020  139.19  137.79\n",
       "2  05-08-2020  139.23  137.84\n",
       "3  06-08-2020  138.88  137.48\n",
       "4  07-08-2020  139.42  138.02"
      ]
     },
     "execution_count": 9,
     "metadata": {},
     "output_type": "execute_result"
    }
   ],
   "source": [
    "import pandas as pd\n",
    "\n",
    "df = pd.DataFrame(temp, columns = ('tanggal','ask','bid'))\n",
    "df.head()"
   ]
  },
  {
   "cell_type": "markdown",
   "metadata": {},
   "source": [
    "Kemudian dilakukan konversi tipe data untuk masing-masing attribute seperti tipe data untuk tanggal menjadi datetime64, ask dan bid menjadi float64"
   ]
  },
  {
   "cell_type": "code",
   "execution_count": 10,
   "metadata": {
    "ExecuteTime": {
     "end_time": "2020-01-13T05:12:59.165559Z",
     "start_time": "2020-01-13T05:12:58.910012Z"
    }
   },
   "outputs": [],
   "source": [
    "df['tanggal'] = pd.to_datetime(df['tanggal'], dayfirst=True)\n",
    "df[['ask','bid']] = df[['ask','bid']].apply(lambda x: x.astype('float64'))"
   ]
  },
  {
   "cell_type": "markdown",
   "metadata": {},
   "source": [
    "Berdasarkan dataframe tersebut kemudian dilakukan pivot table dan visualisasi dengan menggunakan plot line"
   ]
  },
  {
   "cell_type": "code",
   "execution_count": 11,
   "metadata": {
    "ExecuteTime": {
     "end_time": "2020-01-13T05:20:56.208237Z",
     "start_time": "2020-01-13T05:20:56.076043Z"
    }
   },
   "outputs": [
    {
     "data": {
      "text/plain": [
       "<AxesSubplot:xlabel='tanggal'>"
      ]
     },
     "execution_count": 11,
     "metadata": {},
     "output_type": "execute_result"
    },
    {
     "data": {
      "image/png": "[encoded data removed]",
      "text/plain": [
       "<Figure size 432x288 with 1 Axes>"
      ]
     },
     "metadata": {
      "needs_background": "light"
     },
     "output_type": "display_data"
    }
   ],
   "source": [
    "df.pivot_table(\n",
    "    index='tanggal',\n",
    "    values=['ask', 'bid'],\n",
    "    aggfunc='max'\n",
    "    \n",
    ").head().plot(kind='line')"
   ]
  },
  {
   "cell_type": "markdown",
   "metadata": {},
   "source": [
    " \n",
    "Dari grafik line di atas dapat diambil kesimpulan bahwa dalam rentang 5 hari bisa dilihat harga jual tertinggi pada tanggal 3 Agustus 2020 dan harga beli terendah adalah tanggal 6 Agustus 2020. Maka saat yang terbaik untuk menjual mata uang yen adalah tanggal 3 Agustus dan harga terbaik untuk membeli mata uang yen adalah tanggal 6 agustus 2020.\n"
   ]
  },
  {
   "cell_type": "markdown",
   "metadata": {},
   "source": [
    "put your flask dashboard link here too: http://127.0.0.1:5000/"
   ]
  },
  {
   "cell_type": "code",
   "execution_count": null,
   "metadata": {},
   "outputs": [],
   "source": []
  }
 ],
 "metadata": {
  "kernelspec": {
   "display_name": "algoritma",
   "language": "python",
   "name": "algoritma"
  },
  "language_info": {
   "codemirror_mode": {
    "name": "ipython",
    "version": 3
   },
   "file_extension": ".py",
   "mimetype": "text/x-python",
   "name": "python",
   "nbconvert_exporter": "python",
   "pygments_lexer": "ipython3",
   "version": "3.8.3"
  },
  "toc": {
   "base_numbering": 1,
   "nav_menu": {},
   "number_sections": true,
   "sideBar": true,
   "skip_h1_title": false,
   "title_cell": "Table of Contents",
   "title_sidebar": "Contents",
   "toc_cell": false,
   "toc_position": {},
   "toc_section_display": true,
   "toc_window_display": false
  }
 },
 "nbformat": 4,
 "nbformat_minor": 2
}
